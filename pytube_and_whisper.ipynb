{
 "cells": [
  {
   "cell_type": "code",
   "execution_count": 18,
   "metadata": {},
   "outputs": [],
   "source": [
    "import pytube as pt\n",
    "import whisper\n",
    "import os"
   ]
  },
  {
   "cell_type": "code",
   "execution_count": 7,
   "metadata": {},
   "outputs": [],
   "source": [
    "import re\n",
    "\n",
    "def replace_special_chars(text):\n",
    "    # Define the pattern to match special characters and spaces\n",
    "    pattern = r'[^a-zA-Z0-9]+'\n",
    "    # Replace the matched pattern with underscores\n",
    "    replaced_text = re.sub(pattern, '_', text)\n",
    "    return replaced_text\n"
   ]
  },
  {
   "cell_type": "code",
   "execution_count": 9,
   "metadata": {},
   "outputs": [],
   "source": [
    "import ssl\n",
    "ssl._create_default_https_context = ssl._create_unverified_context"
   ]
  },
  {
   "cell_type": "code",
   "execution_count": 4,
   "metadata": {},
   "outputs": [],
   "source": [
    "model = whisper.load_model('base')"
   ]
  },
  {
   "cell_type": "code",
   "execution_count": 19,
   "metadata": {},
   "outputs": [],
   "source": [
    "def download_video_and_transcribe(video_url, directory):\n",
    "    yt = pt.YouTube(video_url)\n",
    "    title = replace_special_chars(yt.title)\n",
    "    \n",
    "    # download video\n",
    "    stream = yt.streams.filter(only_audio=True)[0]\n",
    "    stream.download(filename = directory + '/' + title + '.wav')\n",
    "    print(\"video downloaded\")\n",
    "\n",
    "    # transcribe video\n",
    "    result = model.transcribe(directory + '/' + title + '.wav')\n",
    "\n",
    "    # Open a text file and write transcription in it\n",
    "    with open(directory + '/' + title + '.txt', 'w') as file:\n",
    "        # Write some text to the file\n",
    "        file.write(result['text'])\n",
    "        file.close()\n",
    "    print(\"video transcribed\")\n",
    "\n",
    "    # delete .wav file\n",
    "    if os.path.exists(directory + '/' + title + '.wav'):\n",
    "        os.remove(directory + '/' + title + '.wav')\n",
    "        print(\"video file removed\")\n"
   ]
  },
  {
   "cell_type": "code",
   "execution_count": 39,
   "metadata": {},
   "outputs": [
    {
     "name": "stdout",
     "output_type": "stream",
     "text": [
      "video downloaded\n"
     ]
    },
    {
     "name": "stderr",
     "output_type": "stream",
     "text": [
      "/Users/vamsi.uppala/opt/anaconda3/envs/ds/lib/python3.10/site-packages/whisper/transcribe.py:126: UserWarning: FP16 is not supported on CPU; using FP32 instead\n",
      "  warnings.warn(\"FP16 is not supported on CPU; using FP32 instead\")\n"
     ]
    },
    {
     "name": "stdout",
     "output_type": "stream",
     "text": [
      "video transcribed\n",
      "video file removed\n"
     ]
    }
   ],
   "source": [
    "video_url = \"https://www.youtube.com/watch?v=15xYhrddoNs\"\n",
    "directory = 'autofocus'\n",
    "download_video_and_transcribe(video_url, directory)"
   ]
  },
  {
   "cell_type": "code",
   "execution_count": 26,
   "metadata": {},
   "outputs": [],
   "source": [
    "# get the public channel URL of a YouTube vide using this link\n",
    "## for https://www.youtube.com/@AutoFocus/videos, the answer is below using above link\n",
    "## https://support.securly.com/hc/en-us/articles/1500002732342-How-to-find-a-Youtube-Channel-URL;\n",
    "\n",
    "channel = pt.Channel(\"https://www.youtube.com/channel/UC2J-0g_nxlwcD9JBK1eTleQ/\")"
   ]
  }
 ],
 "metadata": {
  "kernelspec": {
   "display_name": "base",
   "language": "python",
   "name": "python3"
  },
  "language_info": {
   "codemirror_mode": {
    "name": "ipython",
    "version": 3
   },
   "file_extension": ".py",
   "mimetype": "text/x-python",
   "name": "python",
   "nbconvert_exporter": "python",
   "pygments_lexer": "ipython3",
   "version": "3.10.4"
  }
 },
 "nbformat": 4,
 "nbformat_minor": 2
}
